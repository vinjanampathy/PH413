{
 "cells": [
  {
   "cell_type": "markdown",
   "metadata": {},
   "source": [
    "# Problem 1"
   ]
  },
  {
   "cell_type": "markdown",
   "metadata": {},
   "source": [
    "Exponentiation is a most common function that would be used in many programs. For calculating, $x^n $, you can multipy x, n times or you can first calculate $p = x^{n/2}$ and do $ p^2 * x $ or $p^2 $ based on n being odd or even respectively. First method is iterative process and second on is recursive process. The timetaken by recursive will be of O(logn) and that of iterative will be O(n)\n",
    "\n",
    "Write both recursive and iterative solutions. If you are an advanced student, compare the time taken for evalutation and add comments for the same.\n",
    "\n",
    "- Write a program to display $x^n$ for any given (x and n) in ints.\n",
    "- Protect the program from giving bad inputs.\n",
    "- Extend the program to write in x^n in a user specified range, from n_min to n_max.¶"
   ]
  },
  {
   "cell_type": "code",
   "execution_count": 1,
   "metadata": {},
   "outputs": [
    {
     "data": {
      "text/plain": [
       "7"
      ]
     },
     "execution_count": 1,
     "metadata": {},
     "output_type": "execute_result"
    }
   ],
   "source": []
  },
  {
   "cell_type": "code",
   "execution_count": null,
   "metadata": {},
   "outputs": [],
   "source": []
  },
  {
   "cell_type": "code",
   "execution_count": null,
   "metadata": {},
   "outputs": [],
   "source": []
  },
  {
   "cell_type": "code",
   "execution_count": null,
   "metadata": {},
   "outputs": [],
   "source": []
  },
  {
   "cell_type": "code",
   "execution_count": null,
   "metadata": {},
   "outputs": [],
   "source": []
  },
  {
   "cell_type": "code",
   "execution_count": null,
   "metadata": {},
   "outputs": [],
   "source": []
  },
  {
   "cell_type": "code",
   "execution_count": null,
   "metadata": {},
   "outputs": [],
   "source": []
  },
  {
   "cell_type": "code",
   "execution_count": null,
   "metadata": {},
   "outputs": [],
   "source": []
  },
  {
   "cell_type": "code",
   "execution_count": null,
   "metadata": {},
   "outputs": [],
   "source": []
  },
  {
   "cell_type": "code",
   "execution_count": null,
   "metadata": {},
   "outputs": [],
   "source": []
  },
  {
   "cell_type": "markdown",
   "metadata": {},
   "source": [
    "# Problem 2"
   ]
  },
  {
   "cell_type": "markdown",
   "metadata": {},
   "source": [
    "The logistic map models various biological phenomenon and is written as\n",
    "\n",
    "\\begin{equation}\n",
    "x_{n+1} = r x_{n}(1 - x_{n}) \n",
    "\\end{equation}\n",
    " \n",
    "where $ x_{n} $ is a number between zero and one that represents the ratio of existing population to the maximum possible population. The values of interest for the parameter r (sometimes also denoted as μ) are those in the interval [0,4]. \n",
    "This nonlinear difference equation is intended to capture two effects:\n",
    "\n",
    "- reproduction where the population will increase at a rate proportional to the current population when the population size is small.\n",
    "- starvation (density-dependent mortality) where the growth rate will decrease at a rate proportional to the value obtained by taking the theoretical \"carrying capacity\" of the environment less the current population.\n",
    "\n",
    "However, as a demographic model the logistic map has the pathological problem that some initial conditions and parameter values (for example, if r > 4 or r<0) lead to negative population sizes. This problem does not appear in the older Ricker model, which also exhibits chaotic dynamics.\n",
    "\n",
    "Reference: https://en.wikipedia.org/wiki/Logistic_map\n",
    "\n",
    "\n",
    "The task here is to write a function logistic_map, which takes input as $ x_{0} $ , r and visualize by plotting a sequence of n=1000 points. Ensure that the population sizes doesn't take negative values. [hint: function definitions and the \"if\" command might be of help.]"
   ]
  },
  {
   "cell_type": "code",
   "execution_count": null,
   "metadata": {},
   "outputs": [],
   "source": []
  },
  {
   "cell_type": "code",
   "execution_count": null,
   "metadata": {},
   "outputs": [],
   "source": []
  },
  {
   "cell_type": "code",
   "execution_count": null,
   "metadata": {},
   "outputs": [],
   "source": []
  },
  {
   "cell_type": "code",
   "execution_count": null,
   "metadata": {},
   "outputs": [],
   "source": []
  },
  {
   "cell_type": "code",
   "execution_count": null,
   "metadata": {},
   "outputs": [],
   "source": []
  },
  {
   "cell_type": "code",
   "execution_count": null,
   "metadata": {},
   "outputs": [],
   "source": []
  },
  {
   "cell_type": "code",
   "execution_count": null,
   "metadata": {},
   "outputs": [],
   "source": []
  }
 ],
 "metadata": {
  "kernelspec": {
   "display_name": "Python 3",
   "language": "python",
   "name": "python3"
  },
  "language_info": {
   "codemirror_mode": {
    "name": "ipython",
    "version": 3
   },
   "file_extension": ".py",
   "mimetype": "text/x-python",
   "name": "python",
   "nbconvert_exporter": "python",
   "pygments_lexer": "ipython3",
   "version": "3.8.3"
  }
 },
 "nbformat": 4,
 "nbformat_minor": 4
}
