{
 "cells": [
  {
   "cell_type": "markdown",
   "metadata": {},
   "source": [
    "\n",
    "# Basic Terminal Commands used in Linux"
   ]
  },
  {
   "cell_type": "markdown",
   "metadata": {},
   "source": [
    "In this class, we will learn how to navigate a Linux terminal interface."
   ]
  },
  {
   "cell_type": "markdown",
   "metadata": {},
   "source": [
    "## I. File Management"
   ]
  },
  {
   "cell_type": "markdown",
   "metadata": {},
   "source": [
    "[] Where are you right now? $pwd"
   ]
  },
  {
   "cell_type": "markdown",
   "metadata": {},
   "source": [
    "[] List everything in the current folder? $ls"
   ]
  },
  {
   "cell_type": "markdown",
   "metadata": {},
   "source": [
    "[] Go to the folder above the current one? cd ../"
   ]
  },
  {
   "cell_type": "markdown",
   "metadata": {},
   "source": [
    "[] Go to a folder in your current path? cd sai/Desktop"
   ]
  },
  {
   "cell_type": "markdown",
   "metadata": {},
   "source": [
    "[] Create a new file? touch file1.txt file2.txt file3.txt"
   ]
  },
  {
   "cell_type": "markdown",
   "metadata": {},
   "source": [
    "[] Note that if you \"touch\" a file on an existing file, it will simply update the \"last time of access\""
   ]
  },
  {
   "cell_type": "markdown",
   "metadata": {},
   "source": [
    "[] Remove a file? rm file1.txt"
   ]
  },
  {
   "cell_type": "markdown",
   "metadata": {},
   "source": [
    "[] Where is my file? which file1.txt"
   ]
  },
  {
   "cell_type": "markdown",
   "metadata": {},
   "source": [
    "[] Make a directory (folder)? mkdir test1"
   ]
  },
  {
   "cell_type": "markdown",
   "metadata": {},
   "source": [
    "[] Copy in the same directory to modify an existing file? cp file1.txt file2.txt"
   ]
  },
  {
   "cell_type": "markdown",
   "metadata": {},
   "source": [
    "[] Copy to different folder? cp random_1.ipynb /Users/sai/Desktop/random2.ipynb"
   ]
  },
  {
   "cell_type": "markdown",
   "metadata": {},
   "source": [
    "[] Copy in the same directory to modify an existing file, but interactively (dont overwrite files without asking me)? cp -i file1.txt file2.txt"
   ]
  },
  {
   "cell_type": "markdown",
   "metadata": {},
   "source": [
    "[] Advanced way of doing this, where \"../\" stands for nesting folder relative to this folder? cp -i random_1.ipynb ../random2.ipynb"
   ]
  },
  {
   "cell_type": "markdown",
   "metadata": {},
   "source": [
    "[] Copy directory? cp -R dir1 dir2"
   ]
  },
  {
   "cell_type": "markdown",
   "metadata": {},
   "source": [
    "[] clear screen? clear"
   ]
  },
  {
   "cell_type": "markdown",
   "metadata": {},
   "source": [
    "[] search all txt files? ls *.txt"
   ]
  },
  {
   "cell_type": "markdown",
   "metadata": {},
   "source": [
    "## II. Basic Programming Etiquette"
   ]
  },
  {
   "cell_type": "markdown",
   "metadata": {},
   "source": [
    "### [1] Document your code: Inline and development diary."
   ]
  },
  {
   "cell_type": "code",
   "execution_count": null,
   "metadata": {},
   "outputs": [],
   "source": [
    "def f(m,K,d): \n",
    "    z=np.zeros(d)\n",
    "    for i in range(d):\n",
    "        for j in range(d):\n",
    "            z[i] = z[i] + K[i,j]*np.sin(m[i]-m[j])   \n",
    "    return z"
   ]
  },
  {
   "cell_type": "markdown",
   "metadata": {},
   "source": [
    "### [2] Code Writing Strategies: Simplicity, Readability, Repeatability.\n",
    "\n",
    "#### [a] Dumb code that exists is better than non-existant clever code.\n",
    "#### [b] Readable code is better than unreadable code.\n",
    "#### [c] Descriptive variables are better than abstract variables.\n",
    "#### [d] Premature optimisation is the root of all EVIL!!!\n",
    "#### [e] NEVER hardcode your variables. A code you only use once is not worth writing.\n",
    "#### [f] (corollary to e) REUSE your code as much as possible. "
   ]
  },
  {
   "cell_type": "code",
   "execution_count": 1,
   "metadata": {},
   "outputs": [],
   "source": [
    "def f(theta,K,d):\n",
    "    z=np.zeros(d) # place to store output.\n",
    "    for i in range(d):\n",
    "        for j in range(d):\n",
    "            z[i] = z[i] + K[i,j]*np.sin(theta[i]-theta[j])   # compute the update for each \n",
    "    return z"
   ]
  },
  {
   "cell_type": "markdown",
   "metadata": {},
   "source": [
    "### [3] Use common conventions"
   ]
  },
  {
   "cell_type": "code",
   "execution_count": null,
   "metadata": {},
   "outputs": [],
   "source": [
    "def f(theta,coupling,dim):\n",
    "    theta_updated=np.zeros(dim)\n",
    "    for i in range(dim):\n",
    "        for j in range(dim):\n",
    "            theta_updated[i] = theta[i] + coupling[i,j]*np.sin(theta[i]-theta[j])   \n",
    "    return theta_updated"
   ]
  },
  {
   "cell_type": "markdown",
   "metadata": {},
   "source": [
    "### [4] Test as you write, write as you test. "
   ]
  },
  {
   "cell_type": "markdown",
   "metadata": {},
   "source": [
    "### [5] Always write reusable code: functions are your friends..."
   ]
  },
  {
   "cell_type": "markdown",
   "metadata": {},
   "source": [
    "## III. Python: What it is and is not"
   ]
  },
  {
   "cell_type": "markdown",
   "metadata": {},
   "source": [
    "[1] Completely general programming language."
   ]
  },
  {
   "cell_type": "markdown",
   "metadata": {},
   "source": [
    "[2] It was written to be \"easy to learn\""
   ]
  },
  {
   "cell_type": "markdown",
   "metadata": {},
   "source": [
    "[3] Hence it is built to be readable, not fast."
   ]
  },
  {
   "cell_type": "markdown",
   "metadata": {},
   "source": [
    "[4] We will learn python \"on the job\", so to speak."
   ]
  },
  {
   "cell_type": "code",
   "execution_count": 7,
   "metadata": {},
   "outputs": [],
   "source": [
    "x=\"Hello Worlds\""
   ]
  },
  {
   "cell_type": "code",
   "execution_count": 8,
   "metadata": {},
   "outputs": [
    {
     "name": "stdout",
     "output_type": "stream",
     "text": [
      "Hello Worlds\n"
     ]
    }
   ],
   "source": [
    "print(x)"
   ]
  },
  {
   "cell_type": "markdown",
   "metadata": {},
   "source": [
    "## IV. From thinking on Paper to Doing on Computer"
   ]
  },
  {
   "cell_type": "markdown",
   "metadata": {},
   "source": [
    "### [1] Divide and Conquer"
   ]
  },
  {
   "cell_type": "markdown",
   "metadata": {},
   "source": []
  }
 ],
 "metadata": {
  "kernelspec": {
   "display_name": "Python 3",
   "language": "python",
   "name": "python3"
  },
  "language_info": {
   "codemirror_mode": {
    "name": "ipython",
    "version": 3
   },
   "file_extension": ".py",
   "mimetype": "text/x-python",
   "name": "python",
   "nbconvert_exporter": "python",
   "pygments_lexer": "ipython3",
   "version": "3.8.3"
  }
 },
 "nbformat": 4,
 "nbformat_minor": 2
}
